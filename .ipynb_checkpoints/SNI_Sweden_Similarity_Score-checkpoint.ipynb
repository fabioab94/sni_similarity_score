{
 "cells": [
  {
   "cell_type": "code",
   "execution_count": 39,
   "id": "8c19762b-d5e6-4197-a78f-870b16bb8bf9",
   "metadata": {},
   "outputs": [],
   "source": [
    "import pandas as pd"
   ]
  },
  {
   "cell_type": "code",
   "execution_count": 40,
   "id": "45348de4-6198-4ecf-b717-1d399d1ef2c5",
   "metadata": {},
   "outputs": [],
   "source": [
    "#Load SNI code descriptions\n",
    "df = pd.read_csv('en-sni2007.csv')"
   ]
  },
  {
   "cell_type": "code",
   "execution_count": 50,
   "id": "12cf8308-8b2c-4805-bfcd-ac7a9138b488",
   "metadata": {},
   "outputs": [],
   "source": [
    "#Convert to list\n",
    "list0 = df.Description.values.tolist()"
   ]
  },
  {
   "cell_type": "code",
   "execution_count": null,
   "id": "f7ba73f5-1341-47d5-bc5e-9608105a42fc",
   "metadata": {},
   "outputs": [],
   "source": [
    "#Sentence Transformer\n",
    "from sentence_transformers import SentenceTransformer\n",
    "# 1. Load a pretrained Sentence Transformer model\n",
    "model = SentenceTransformer(\"all-MiniLM-L6-v2\")"
   ]
  },
  {
   "cell_type": "code",
   "execution_count": 51,
   "id": "3501dfc8-b4b3-4d79-afd4-d01f96d7ee23",
   "metadata": {},
   "outputs": [],
   "source": [
    "#Calculate embeddings\n",
    "embeddings = model.encode(list0)"
   ]
  },
  {
   "cell_type": "code",
   "execution_count": 53,
   "id": "cb4873d9-88ac-4846-a389-5edc3dbd0578",
   "metadata": {},
   "outputs": [],
   "source": [
    "#Load utils\n",
    "from sentence_transformers import util"
   ]
  },
  {
   "cell_type": "code",
   "execution_count": 54,
   "id": "da4a45a3-df39-44fa-93a6-e643088841fc",
   "metadata": {},
   "outputs": [],
   "source": [
    "#Calculate cosine similarity of embeddings\n",
    "cos_sim = util.cos_sim(embeddings,embeddings)"
   ]
  },
  {
   "cell_type": "code",
   "execution_count": null,
   "id": "24bc35ad-dffb-4ae9-a303-11d02dc38888",
   "metadata": {},
   "outputs": [],
   "source": []
  },
  {
   "cell_type": "code",
   "execution_count": 56,
   "id": "d6bd689e-166d-47a5-8d4f-4cbd5473b17b",
   "metadata": {},
   "outputs": [],
   "source": [
    "#add all pairs to list\n",
    "all_sni_desc_combinations=[]\n",
    "for i in range(len(cos_sim)-1):\n",
    "    for j in range(i+1, len(cos_sim)):\n",
    "        all_sni_desc_combinations.append((cos_sim[i][j],i,j))"
   ]
  },
  {
   "cell_type": "code",
   "execution_count": 65,
   "id": "7e31ba52-dcef-464d-bfa6-c3051102db64",
   "metadata": {},
   "outputs": [],
   "source": [
    "#add all pairs to list with text\n",
    "all_sni_desc_combinations_text=[]\n",
    "for score, i,j in all_sni_desc_combinations[0:]:\n",
    "    all_sni_desc_combinations_text.append((list0[i],list0[j],cos_sim[i][j].detach().item()))"
   ]
  },
  {
   "cell_type": "code",
   "execution_count": 67,
   "id": "87156123-ecbd-470a-82ff-1a101776d3f3",
   "metadata": {},
   "outputs": [],
   "source": [
    "#convert list to dataframe\n",
    "df4 = pd.DataFrame(all_sni_desc_combinations_text, columns =['Description1', 'Description1', 'Similarity_Score'])"
   ]
  },
  {
   "cell_type": "code",
   "execution_count": 70,
   "id": "cf08e227-d83b-4f0e-a5c8-24e09ccdbf1f",
   "metadata": {},
   "outputs": [],
   "source": [
    "#Increased width of columns\n",
    "pd.set_option('display.max_colwidth', 1)"
   ]
  },
  {
   "cell_type": "code",
   "execution_count": 85,
   "id": "f04ce991-9d65-482b-8d8f-e32f41641e41",
   "metadata": {},
   "outputs": [
    {
     "data": {
      "text/html": [
       "<div>\n",
       "<style scoped>\n",
       "    .dataframe tbody tr th:only-of-type {\n",
       "        vertical-align: middle;\n",
       "    }\n",
       "\n",
       "    .dataframe tbody tr th {\n",
       "        vertical-align: top;\n",
       "    }\n",
       "\n",
       "    .dataframe thead th {\n",
       "        text-align: right;\n",
       "    }\n",
       "</style>\n",
       "<table border=\"1\" class=\"dataframe\">\n",
       "  <thead>\n",
       "    <tr style=\"text-align: right;\">\n",
       "      <th></th>\n",
       "      <th>Description1</th>\n",
       "      <th>Description1</th>\n",
       "      <th>Similarity_Score</th>\n",
       "    </tr>\n",
       "  </thead>\n",
       "  <tbody>\n",
       "    <tr>\n",
       "      <th>125118</th>\n",
       "      <td>Manufacture of paints, varnishes and similar coatings, printing ink and mastics</td>\n",
       "      <td>Manufacture of optical instruments and photographic equipment</td>\n",
       "      <td>0.499989</td>\n",
       "    </tr>\n",
       "    <tr>\n",
       "      <th>137969</th>\n",
       "      <td>Manufacture and processing of other glass, including technical glassware</td>\n",
       "      <td>Other manufacturing n.e.c.</td>\n",
       "      <td>0.499977</td>\n",
       "    </tr>\n",
       "    <tr>\n",
       "      <th>186781</th>\n",
       "      <td>Manufacture of office machinery and equipment (except computers and peripheral equipment)</td>\n",
       "      <td>Repair of other equipment</td>\n",
       "      <td>0.499966</td>\n",
       "    </tr>\n",
       "    <tr>\n",
       "      <th>134099</th>\n",
       "      <td>Manufacture of builders’ ware of plastic</td>\n",
       "      <td>Manufacture of steel drums and similar containers</td>\n",
       "      <td>0.499966</td>\n",
       "    </tr>\n",
       "    <tr>\n",
       "      <th>127765</th>\n",
       "      <td>Manufacture of glues</td>\n",
       "      <td>Manufacture of games and toys</td>\n",
       "      <td>0.499953</td>\n",
       "    </tr>\n",
       "    <tr>\n",
       "      <th>...</th>\n",
       "      <td>...</td>\n",
       "      <td>...</td>\n",
       "      <td>...</td>\n",
       "    </tr>\n",
       "    <tr>\n",
       "      <th>142889</th>\n",
       "      <td>Manufacture of other ceramic products</td>\n",
       "      <td>Manufacture of other tanks, reservoirs and containers of metal</td>\n",
       "      <td>0.450021</td>\n",
       "    </tr>\n",
       "    <tr>\n",
       "      <th>105880</th>\n",
       "      <td>Manufacture of mechanical or semi-chemical pulp</td>\n",
       "      <td>Manufacture of lifting and handling equipment</td>\n",
       "      <td>0.450020</td>\n",
       "    </tr>\n",
       "    <tr>\n",
       "      <th>138526</th>\n",
       "      <td>Manufacture of refractory products</td>\n",
       "      <td>Manufacture of fasteners and screw machine products</td>\n",
       "      <td>0.450018</td>\n",
       "    </tr>\n",
       "    <tr>\n",
       "      <th>288854</th>\n",
       "      <td>Retail sale of books and other media goods via mail order houses or via internet</td>\n",
       "      <td>Delivery of advertising material</td>\n",
       "      <td>0.450018</td>\n",
       "    </tr>\n",
       "    <tr>\n",
       "      <th>251213</th>\n",
       "      <td>Wholesale of clothing and footwear</td>\n",
       "      <td>Other retail sale in specialised stores n.e.c.</td>\n",
       "      <td>0.450002</td>\n",
       "    </tr>\n",
       "  </tbody>\n",
       "</table>\n",
       "<p>5644 rows × 3 columns</p>\n",
       "</div>"
      ],
      "text/plain": [
       "                                                                                     Description1  \\\n",
       "125118  Manufacture of paints, varnishes and similar coatings, printing ink and mastics             \n",
       "137969  Manufacture and processing of other glass, including technical glassware                    \n",
       "186781  Manufacture of office machinery and equipment (except computers and peripheral equipment)   \n",
       "134099  Manufacture of builders’ ware of plastic                                                    \n",
       "127765  Manufacture of glues                                                                        \n",
       "...                      ...                                                                        \n",
       "142889  Manufacture of other ceramic products                                                       \n",
       "105880  Manufacture of mechanical or semi-chemical pulp                                             \n",
       "138526  Manufacture of refractory products                                                          \n",
       "288854  Retail sale of books and other media goods via mail order houses or via internet            \n",
       "251213  Wholesale of clothing and footwear                                                          \n",
       "\n",
       "                                                          Description1  \\\n",
       "125118  Manufacture of optical instruments and photographic equipment    \n",
       "137969  Other manufacturing n.e.c.                                       \n",
       "186781  Repair of other equipment                                        \n",
       "134099  Manufacture of steel drums and similar containers                \n",
       "127765  Manufacture of games and toys                                    \n",
       "...                               ...                                    \n",
       "142889  Manufacture of other tanks, reservoirs and containers of metal   \n",
       "105880  Manufacture of lifting and handling equipment                    \n",
       "138526  Manufacture of fasteners and screw machine products              \n",
       "288854  Delivery of advertising material                                 \n",
       "251213  Other retail sale in specialised stores n.e.c.                   \n",
       "\n",
       "        Similarity_Score  \n",
       "125118  0.499989          \n",
       "137969  0.499977          \n",
       "186781  0.499966          \n",
       "134099  0.499966          \n",
       "127765  0.499953          \n",
       "...          ...          \n",
       "142889  0.450021          \n",
       "105880  0.450020          \n",
       "138526  0.450018          \n",
       "288854  0.450018          \n",
       "251213  0.450002          \n",
       "\n",
       "[5644 rows x 3 columns]"
      ]
     },
     "execution_count": 85,
     "metadata": {},
     "output_type": "execute_result"
    }
   ],
   "source": [
    "df4[df4['Similarity_Score'].between(0.45, 0.5)].sort_values(by=['Similarity_Score'],ascending=False)"
   ]
  },
  {
   "cell_type": "code",
   "execution_count": 81,
   "id": "8d49d560-9bd3-4c39-9c37-3c0489067d13",
   "metadata": {},
   "outputs": [],
   "source": [
    "#Write results to CSV\n",
    "df4.to_csv('en_sweden_sni_similarity.csv')"
   ]
  },
  {
   "cell_type": "code",
   "execution_count": null,
   "id": "8250de08-f22f-47f9-8ace-f220db6532eb",
   "metadata": {},
   "outputs": [],
   "source": []
  }
 ],
 "metadata": {
  "kernelspec": {
   "display_name": "Python 3 (ipykernel)",
   "language": "python",
   "name": "python3"
  },
  "language_info": {
   "codemirror_mode": {
    "name": "ipython",
    "version": 3
   },
   "file_extension": ".py",
   "mimetype": "text/x-python",
   "name": "python",
   "nbconvert_exporter": "python",
   "pygments_lexer": "ipython3",
   "version": "3.12.4"
  }
 },
 "nbformat": 4,
 "nbformat_minor": 5
}
